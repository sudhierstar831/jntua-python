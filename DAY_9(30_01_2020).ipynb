{
  "nbformat": 4,
  "nbformat_minor": 0,
  "metadata": {
    "colab": {
      "name": "DAY 9(30-01-2020)",
      "provenance": [],
      "authorship_tag": "ABX9TyMzJiZzME1a1EA2lAddHr7r",
      "include_colab_link": true
    },
    "kernelspec": {
      "name": "python3",
      "display_name": "Python 3"
    }
  },
  "cells": [
    {
      "cell_type": "markdown",
      "metadata": {
        "id": "view-in-github",
        "colab_type": "text"
      },
      "source": [
        "<a href=\"https://colab.research.google.com/github/sudhierstar831/jntua-python/blob/master/DAY_9(30_01_2020).ipynb\" target=\"_parent\"><img src=\"https://colab.research.google.com/assets/colab-badge.svg\" alt=\"Open In Colab\"/></a>"
      ]
    },
    {
      "cell_type": "code",
      "metadata": {
        "id": "LVK-25bS6vAT",
        "colab_type": "code",
        "colab": {}
      },
      "source": [
        ""
      ],
      "execution_count": 0,
      "outputs": []
    },
    {
      "cell_type": "markdown",
      "metadata": {
        "id": "tTmfafKp8m0U",
        "colab_type": "text"
      },
      "source": [
        "# Markdown\n",
        "## Markdown\n",
        "### Markdown\n",
        "#### Markdown"
      ]
    },
    {
      "cell_type": "code",
      "metadata": {
        "id": "_vq2bK3B9aMi",
        "colab_type": "code",
        "colab": {}
      },
      "source": [
        ""
      ],
      "execution_count": 0,
      "outputs": []
    },
    {
      "cell_type": "markdown",
      "metadata": {
        "id": "9jCZ30td9dBd",
        "colab_type": "text"
      },
      "source": [
        "**Points**\n",
        "\n",
        "*Points*\n",
        "\n",
        "***points***\n",
        "\n"
      ]
    },
    {
      "cell_type": "code",
      "metadata": {
        "id": "rQm3hOnA95Ub",
        "colab_type": "code",
        "colab": {}
      },
      "source": [
        ""
      ],
      "execution_count": 0,
      "outputs": []
    },
    {
      "cell_type": "markdown",
      "metadata": {
        "id": "pC-K94Nq-YXv",
        "colab_type": "text"
      },
      "source": [
        "***Adding links to mark down***\n",
        "\n",
        "[SITE](https://sites.google.com/s/1oCpNhG1tGlOArpsswcqvhr8yRWIcMXXO/p/15WFvLNT_8CEUnjjSILf-aICRXLmuIaeF/edit)\n",
        "\n",
        "\n",
        "\n",
        "\n",
        "\n"
      ]
    },
    {
      "cell_type": "code",
      "metadata": {
        "id": "4KJ2y58vAon0",
        "colab_type": "code",
        "colab": {}
      },
      "source": [
        ""
      ],
      "execution_count": 0,
      "outputs": []
    },
    {
      "cell_type": "markdown",
      "metadata": {
        "id": "e81oH7skAqnf",
        "colab_type": "text"
      },
      "source": [
        "### INSERTING IMAGE\n",
        "\n",
        "![TEXT](https://lh3.googleusercontent.com/-mqB1D9M09-9dhIm_96lm82S_sNO7UGBsxLHZzJGKrFJ-tzQmJtHiayLqb733mDOH-Pj58k=w1280)"
      ]
    },
    {
      "cell_type": "code",
      "metadata": {
        "id": "LnSTd_-XBQpY",
        "colab_type": "code",
        "colab": {
          "base_uri": "https://localhost:8080/",
          "height": 51
        },
        "outputId": "17929c08-7165-4cbb-9a1f-999dbd81e37c"
      },
      "source": [
        "print(\"Hello world ! \")\n",
        "print(\"Hello , jntua\",\"|||\",\"chemical\",\"|||\",\"cse\")"
      ],
      "execution_count": 3,
      "outputs": [
        {
          "output_type": "stream",
          "text": [
            "Hello world ! \n",
            "Hello , jntua ||| chemical ||| cse\n"
          ],
          "name": "stdout"
        }
      ]
    },
    {
      "cell_type": "code",
      "metadata": {
        "id": "OvDBm1RBB5Mr",
        "colab_type": "code",
        "colab": {}
      },
      "source": [
        "\n"
      ],
      "execution_count": 0,
      "outputs": []
    },
    {
      "cell_type": "markdown",
      "metadata": {
        "id": "APa-B8FwH307",
        "colab_type": "text"
      },
      "source": [
        "***ASSIGNMENT***"
      ]
    },
    {
      "cell_type": "code",
      "metadata": {
        "id": "2IJZmabDH7V4",
        "colab_type": "code",
        "colab": {
          "base_uri": "https://localhost:8080/",
          "height": 68
        },
        "outputId": "e501a304-34d3-4556-b647-e87b99533b37"
      },
      "source": [
        "n1 = 100 # single variable assignment\n",
        "print(n1)\n",
        "a = b = c = 10 # multiple variable assignment of same variable\n",
        "print(a , b ,c)\n",
        "a1,b1,c1 =100,200,300 #multiple variable assignment with different values\n",
        "print(a1,b1,c1)"
      ],
      "execution_count": 7,
      "outputs": [
        {
          "output_type": "stream",
          "text": [
            "100\n",
            "10 10 10\n",
            "100 200 300\n"
          ],
          "name": "stdout"
        }
      ]
    },
    {
      "cell_type": "code",
      "metadata": {
        "id": "fZEleerZIIGt",
        "colab_type": "code",
        "colab": {}
      },
      "source": [
        ""
      ],
      "execution_count": 0,
      "outputs": []
    },
    {
      "cell_type": "markdown",
      "metadata": {
        "id": "0MlcckjvJdLE",
        "colab_type": "text"
      },
      "source": [
        "# DATA TYPES AND CONVERSIONS\n",
        "* int\n",
        "* float\n",
        "* string"
      ]
    },
    {
      "cell_type": "code",
      "metadata": {
        "id": "8CIzTwhoJsjv",
        "colab_type": "code",
        "colab": {
          "base_uri": "https://localhost:8080/",
          "height": 34
        },
        "outputId": "87a16442-7efc-46c0-9334-f6b880703b77"
      },
      "source": [
        "a=100\n",
        "s1=10.2\n",
        "s2=\"python\"\n",
        "print(type(a),type(s1),type(s2))"
      ],
      "execution_count": 8,
      "outputs": [
        {
          "output_type": "stream",
          "text": [
            "<class 'int'> <class 'float'> <class 'str'>\n"
          ],
          "name": "stdout"
        }
      ]
    },
    {
      "cell_type": "code",
      "metadata": {
        "id": "VTLdpGtIKuzY",
        "colab_type": "code",
        "colab": {
          "base_uri": "https://localhost:8080/",
          "height": 68
        },
        "outputId": "eebdc44e-2ec0-4284-bfc4-ff0b2d4dd365"
      },
      "source": [
        "i=100\n",
        "print(type(i))\n",
        "s1=str(i)\n",
        "print(type(s1))\n",
        "f1=float(i)\n",
        "print(type(f1))"
      ],
      "execution_count": 10,
      "outputs": [
        {
          "output_type": "stream",
          "text": [
            "<class 'int'>\n",
            "<class 'str'>\n",
            "<class 'float'>\n"
          ],
          "name": "stdout"
        }
      ]
    },
    {
      "cell_type": "code",
      "metadata": {
        "id": "8KD5zF6wLRqc",
        "colab_type": "code",
        "colab": {
          "base_uri": "https://localhost:8080/",
          "height": 34
        },
        "outputId": "f8ce394e-209d-4723-c670-ff5b595a8074"
      },
      "source": [
        "# length\n",
        "a=123456\n",
        "print(len(str(a)))"
      ],
      "execution_count": 15,
      "outputs": [
        {
          "output_type": "stream",
          "text": [
            "6\n"
          ],
          "name": "stdout"
        }
      ]
    },
    {
      "cell_type": "code",
      "metadata": {
        "id": "3HEPsA98L1wo",
        "colab_type": "code",
        "colab": {}
      },
      "source": [
        ""
      ],
      "execution_count": 0,
      "outputs": []
    },
    {
      "cell_type": "markdown",
      "metadata": {
        "id": "9orGo_4uMbHY",
        "colab_type": "text"
      },
      "source": [
        "# Reading input from user-input function"
      ]
    },
    {
      "cell_type": "code",
      "metadata": {
        "id": "H9HXJheIMf3v",
        "colab_type": "code",
        "colab": {
          "base_uri": "https://localhost:8080/",
          "height": 119
        },
        "outputId": "a92eb35e-5b87-458b-c074-67159b58fa59"
      },
      "source": [
        "a=input(\"Enter your name \")\n",
        "print(a)\n",
        "print(type(a))\n",
        "b=int(input(\"Enter your age \"))\n",
        "print(b)\n",
        "print(type(b))"
      ],
      "execution_count": 19,
      "outputs": [
        {
          "output_type": "stream",
          "text": [
            "Enter your name sudhier\n",
            "sudhier\n",
            "<class 'str'>\n",
            "Enter your age 19\n",
            "19\n",
            "<class 'int'>\n"
          ],
          "name": "stdout"
        }
      ]
    },
    {
      "cell_type": "code",
      "metadata": {
        "id": "10n7LHoTMyj3",
        "colab_type": "code",
        "colab": {}
      },
      "source": [
        ""
      ],
      "execution_count": 0,
      "outputs": []
    },
    {
      "cell_type": "markdown",
      "metadata": {
        "id": "kHduchEeOBLk",
        "colab_type": "text"
      },
      "source": [
        "# Operators\n",
        "- operator is a symbol used to perform a specific kind of operations"
      ]
    },
    {
      "cell_type": "code",
      "metadata": {
        "id": "WX0XXE5bOWWe",
        "colab_type": "code",
        "colab": {}
      },
      "source": [
        ""
      ],
      "execution_count": 0,
      "outputs": []
    },
    {
      "cell_type": "markdown",
      "metadata": {
        "id": "tP_T4MrkOXa8",
        "colab_type": "text"
      },
      "source": [
        "# Arthematic operator\n",
        "-addition + \n",
        "\n",
        "-substaraction -\n",
        "\n",
        "-multplication *\n",
        "\n",
        "-division / \n",
        "\n",
        "-modulus %\n",
        "\n",
        "-float //\n",
        "\n",
        "-power **"
      ]
    },
    {
      "cell_type": "code",
      "metadata": {
        "id": "T2DvBLaHOyBM",
        "colab_type": "code",
        "colab": {
          "base_uri": "https://localhost:8080/",
          "height": 136
        },
        "outputId": "885f0d67-5dff-441c-8be9-e47a172750bd"
      },
      "source": [
        "a=1234\n",
        "print(a+10)\n",
        "print(a-10)\n",
        "print(a*10)\n",
        "print(a/10)\n",
        "print(a%10)\n",
        "print(a//10)\n",
        "print(a**10)"
      ],
      "execution_count": 20,
      "outputs": [
        {
          "output_type": "stream",
          "text": [
            "1244\n",
            "1224\n",
            "12340\n",
            "123.4\n",
            "4\n",
            "123\n",
            "8187505353567209228244052427776\n"
          ],
          "name": "stdout"
        }
      ]
    },
    {
      "cell_type": "code",
      "metadata": {
        "id": "MOjY0b8ePgWB",
        "colab_type": "code",
        "colab": {}
      },
      "source": [
        ""
      ],
      "execution_count": 0,
      "outputs": []
    },
    {
      "cell_type": "markdown",
      "metadata": {
        "id": "5tgSBx9HQ-7B",
        "colab_type": "text"
      },
      "source": [
        "# Relational operators\n",
        "- =\n",
        "\n",
        "- ==\n",
        "\n",
        "- !=\n",
        "\n",
        "- =<\n",
        "\n",
        "- =>\n",
        "\n",
        "- .>\n",
        "\n",
        "- <"
      ]
    },
    {
      "cell_type": "code",
      "metadata": {
        "id": "RR9NP0o7RCcq",
        "colab_type": "code",
        "colab": {
          "base_uri": "https://localhost:8080/",
          "height": 34
        },
        "outputId": "42bf05ba-70ba-4e36-dcc9-877f759870ca"
      },
      "source": [
        "x=10\n",
        "a1 = x>15\n",
        "print(a1)"
      ],
      "execution_count": 21,
      "outputs": [
        {
          "output_type": "stream",
          "text": [
            "False\n"
          ],
          "name": "stdout"
        }
      ]
    },
    {
      "cell_type": "code",
      "metadata": {
        "id": "3l7vvzDVRogB",
        "colab_type": "code",
        "colab": {}
      },
      "source": [
        ""
      ],
      "execution_count": 0,
      "outputs": []
    },
    {
      "cell_type": "markdown",
      "metadata": {
        "id": "swWXbSRGR6Pr",
        "colab_type": "text"
      },
      "source": [
        "# Logical opertors\n",
        "- and\n",
        "- or\n",
        "- not"
      ]
    },
    {
      "cell_type": "code",
      "metadata": {
        "id": "pIUkqdD7SIH7",
        "colab_type": "code",
        "colab": {
          "base_uri": "https://localhost:8080/",
          "height": 68
        },
        "outputId": "09558588-8b31-4225-c43c-3794f5a3f492"
      },
      "source": [
        "i=100\n",
        "a1=(i>15) and (i<800)\n",
        "a2=(i>15) or (i>800)\n",
        "i = not 10\n",
        "print(a1)\n",
        "print(a2)\n",
        "print(i)"
      ],
      "execution_count": 29,
      "outputs": [
        {
          "output_type": "stream",
          "text": [
            "True\n",
            "True\n",
            "False\n"
          ],
          "name": "stdout"
        }
      ]
    },
    {
      "cell_type": "code",
      "metadata": {
        "id": "aJCR1nMlSXkz",
        "colab_type": "code",
        "colab": {}
      },
      "source": [
        ""
      ],
      "execution_count": 0,
      "outputs": []
    },
    {
      "cell_type": "markdown",
      "metadata": {
        "id": "90KzhJNlTqry",
        "colab_type": "text"
      },
      "source": [
        "# Control flow statement\n",
        "-conditional statements\n",
        "\n",
        "-loop statements"
      ]
    },
    {
      "cell_type": "code",
      "metadata": {
        "id": "-N0rwioHT4r-",
        "colab_type": "code",
        "colab": {}
      },
      "source": [
        ""
      ],
      "execution_count": 0,
      "outputs": []
    },
    {
      "cell_type": "markdown",
      "metadata": {
        "id": "qG7T4uoXUGLT",
        "colab_type": "text"
      },
      "source": [
        "# If else statements\n",
        "## syntax:\n",
        "# if boolean_condition:\n",
        "\n",
        "# statements\n",
        "\n",
        "# else:\n",
        " \n",
        "# statements"
      ]
    },
    {
      "cell_type": "code",
      "metadata": {
        "id": "icInjlS5Uimo",
        "colab_type": "code",
        "colab": {
          "base_uri": "https://localhost:8080/",
          "height": 51
        },
        "outputId": "59cb5b86-43d6-4475-ebb0-189c204278f2"
      },
      "source": [
        "# To check given is even or odd\n",
        "n=int(input(\"Enter a number: \"))\n",
        "if n%2 == 0:\n",
        "  print(n,\"is even number\")\n",
        "else:\n",
        "  print(n,\"is odd number\")"
      ],
      "execution_count": 33,
      "outputs": [
        {
          "output_type": "stream",
          "text": [
            "Enter a number: 31\n",
            "31 is odd number\n"
          ],
          "name": "stdout"
        }
      ]
    },
    {
      "cell_type": "code",
      "metadata": {
        "id": "OjEdQXNzVJ6B",
        "colab_type": "code",
        "colab": {
          "base_uri": "https://localhost:8080/",
          "height": 51
        },
        "outputId": "44377e6a-8a3c-44ed-88ed-cb38c2e4ebe8"
      },
      "source": [
        "# To check given number is perfectly multiples of 3 and 5\n",
        "n=int(input(\"Enter a number: \"))\n",
        "if n%3==0 and n%5==0:\n",
        "  print(\"perfectly multiple of 3 and 5\")\n",
        "else:\n",
        "  print(\"its not\")\n"
      ],
      "execution_count": 44,
      "outputs": [
        {
          "output_type": "stream",
          "text": [
            "Enter a number: 45\n",
            "perfectly multiple of 3 and 5\n"
          ],
          "name": "stdout"
        }
      ]
    },
    {
      "cell_type": "code",
      "metadata": {
        "id": "DP-sW9UeWe4w",
        "colab_type": "code",
        "colab": {
          "base_uri": "https://localhost:8080/",
          "height": 51
        },
        "outputId": "49a2cfb8-f5b8-4001-f299-70d6a83bd0b8"
      },
      "source": [
        "#given number is positive negative or zero\n",
        "n=int(input(\"Enter a number: \"))\n",
        "if n==0:\n",
        "  print(n,\"is zero\")  \n",
        "else:\n",
        "  if n<0:\n",
        "    print(n,\"is negative number\")\n",
        "  else:\n",
        "    print(n,\"is positive number\")\n"
      ],
      "execution_count": 50,
      "outputs": [
        {
          "output_type": "stream",
          "text": [
            "Enter a number: 2\n",
            "2 is positive number\n"
          ],
          "name": "stdout"
        }
      ]
    },
    {
      "cell_type": "code",
      "metadata": {
        "id": "Rwd5bZshY5OH",
        "colab_type": "code",
        "colab": {
          "base_uri": "https://localhost:8080/",
          "height": 85
        },
        "outputId": "0bb702cf-5f98-48e9-85c9-d2b49ccd52ff"
      },
      "source": [
        "2\n",
        "# largest of three numbers\n",
        "x=int(input(\"Enter a number: \"))\n",
        "y=int(input(\"Enter a number: \"))\n",
        "z=int(input(\"Enter a number: \"))\n",
        "if x>y and x>z:\n",
        "  print(x, \"is latgest\")\n",
        "else:\n",
        "  if y>z:\n",
        "    print(y,\"is largest\")\n",
        "  else:\n",
        "    print(z,\"is largest\")\n",
        "\n"
      ],
      "execution_count": 48,
      "outputs": [
        {
          "output_type": "stream",
          "text": [
            "Enter a number: 2\n",
            "Enter a number: 3\n",
            "Enter a number: 6\n",
            "6 is largest\n"
          ],
          "name": "stdout"
        }
      ]
    },
    {
      "cell_type": "code",
      "metadata": {
        "id": "j4sxckVsaw1i",
        "colab_type": "code",
        "colab": {
          "base_uri": "https://localhost:8080/",
          "height": 51
        },
        "outputId": "a458a281-26f2-4936-d16f-8f5b6d855221"
      },
      "source": [
        "# find leap year\n",
        "n=int(input(\"Enter a number: \"))\n",
        "if n%4!=0:\n",
        "  print(\"its not\")\n",
        "else:\n",
        "  print(\"its a leap year\")\n"
      ],
      "execution_count": 60,
      "outputs": [
        {
          "output_type": "stream",
          "text": [
            "Enter a number: 2021\n",
            "its not\n"
          ],
          "name": "stdout"
        }
      ]
    },
    {
      "cell_type": "code",
      "metadata": {
        "id": "nBQy24vRcqpw",
        "colab_type": "code",
        "colab": {}
      },
      "source": [
        ""
      ],
      "execution_count": 0,
      "outputs": []
    }
  ]
}