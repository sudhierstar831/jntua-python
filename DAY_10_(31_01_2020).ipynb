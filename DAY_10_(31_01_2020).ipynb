{
  "nbformat": 4,
  "nbformat_minor": 0,
  "metadata": {
    "colab": {
      "name": "DAY 10 (31-01-2020)",
      "provenance": [],
      "authorship_tag": "ABX9TyO9/vUGtUQuI5GEMZ9u47p3",
      "include_colab_link": true
    },
    "kernelspec": {
      "name": "python3",
      "display_name": "Python 3"
    }
  },
  "cells": [
    {
      "cell_type": "markdown",
      "metadata": {
        "id": "view-in-github",
        "colab_type": "text"
      },
      "source": [
        "<a href=\"https://colab.research.google.com/github/sudhierstar831/jntua-python/blob/master/DAY_10_(31_01_2020).ipynb\" target=\"_parent\"><img src=\"https://colab.research.google.com/assets/colab-badge.svg\" alt=\"Open In Colab\"/></a>"
      ]
    },
    {
      "cell_type": "code",
      "metadata": {
        "id": "Wxx-imTLt-Ns",
        "colab_type": "code",
        "colab": {}
      },
      "source": [
        ""
      ],
      "execution_count": 0,
      "outputs": []
    },
    {
      "cell_type": "markdown",
      "metadata": {
        "id": "u_OpfJZEwWzq",
        "colab_type": "text"
      },
      "source": [
        "# LOOPS\n",
        "-WHILE LOOP\n",
        "\n",
        "-FOR LOOP\n"
      ]
    },
    {
      "cell_type": "code",
      "metadata": {
        "id": "Cg50CyBAwdX8",
        "colab_type": "code",
        "colab": {
          "base_uri": "https://localhost:8080/",
          "height": 51
        },
        "outputId": "8cc96df5-97bd-4ba0-88da-19a44255bb99"
      },
      "source": [
        "# PRINT NUMBERS FROM 1-N\n",
        "n=int(input(\"ENTER A NUMBER: \"))\n",
        "i=1\n",
        "while i<=n:\n",
        "  print(i,end=\" \")\n",
        "  i=i+1"
      ],
      "execution_count": 44,
      "outputs": [
        {
          "output_type": "stream",
          "text": [
            "ENTER A NUMBER: 10\n",
            "1 2 3 4 5 6 7 8 9 10 "
          ],
          "name": "stdout"
        }
      ]
    },
    {
      "cell_type": "code",
      "metadata": {
        "id": "MmJqhwwdxG6P",
        "colab_type": "code",
        "colab": {
          "base_uri": "https://localhost:8080/",
          "height": 51
        },
        "outputId": "b60531fb-34b8-4a47-8ca5-3c08eb5bd699"
      },
      "source": [
        "# print sum of even numbers \n",
        "n=int(input(\"ENTER A NUMBER: \"))\n",
        "i,s=0,0\n",
        "while i<=n:\n",
        "  if i%2==0:\n",
        "    s=s+i\n",
        "    i=i+1\n",
        "  else:\n",
        "    s=s\n",
        "    i=i+1 \n",
        "print(s)"
      ],
      "execution_count": 45,
      "outputs": [
        {
          "output_type": "stream",
          "text": [
            "ENTER A NUMBER: 10\n",
            "30\n"
          ],
          "name": "stdout"
        }
      ]
    },
    {
      "cell_type": "code",
      "metadata": {
        "id": "V31GT_qUy3a-",
        "colab_type": "code",
        "colab": {
          "base_uri": "https://localhost:8080/",
          "height": 51
        },
        "outputId": "495e9d46-3e4b-47b5-e037-d53bec776893"
      },
      "source": [
        "# palindrome for three digits\n",
        "n=int(input(\"ENTER A NUMBER: \"))\n",
        "x=n%10\n",
        "y=n//10\n",
        "z=y%10\n",
        "a=y//10\n",
        "print(x,end=\"\")\n",
        "print(z,end=\"\")\n",
        "print(a,end=\"\")"
      ],
      "execution_count": 46,
      "outputs": [
        {
          "output_type": "stream",
          "text": [
            "ENTER A NUMBER: 123\n",
            "321"
          ],
          "name": "stdout"
        }
      ]
    },
    {
      "cell_type": "code",
      "metadata": {
        "id": "c5HBFuAp4ICr",
        "colab_type": "code",
        "colab": {
          "base_uri": "https://localhost:8080/",
          "height": 51
        },
        "outputId": "8fd9a0d3-f940-4fc0-b141-07215443982f"
      },
      "source": [
        "n=int(input(\"ENTER A NUMBER: \"))\n",
        "r=0\n",
        "num=0\n",
        "while n>0:\n",
        "  r=n%10\n",
        "  num=num*10+r\n",
        "  n=n//10\n",
        "print(num)\n"
      ],
      "execution_count": 47,
      "outputs": [
        {
          "output_type": "stream",
          "text": [
            "ENTER A NUMBER: 123\n",
            "321\n"
          ],
          "name": "stdout"
        }
      ]
    },
    {
      "cell_type": "markdown",
      "metadata": {
        "id": "gqWZgM3M8Dnm",
        "colab_type": "text"
      },
      "source": [
        "# Functional programming\n",
        "-simple\n",
        "\n",
        "-easy to understand \n",
        "\n",
        "-better reuseability\n",
        "\n",
        "-lengthy programs will be divided into subprograms"
      ]
    },
    {
      "cell_type": "markdown",
      "metadata": {
        "id": "49EvnNpXA8Oj",
        "colab_type": "text"
      },
      "source": [
        "def nameofthefunction(<parameter>):\n",
        "\n",
        "  statements\n",
        "\n",
        "  return"
      ]
    },
    {
      "cell_type": "code",
      "metadata": {
        "id": "DAZWANWp9nR3",
        "colab_type": "code",
        "colab": {
          "base_uri": "https://localhost:8080/",
          "height": 34
        },
        "outputId": "22458a76-69e1-4e46-a033-0fc8662ea337"
      },
      "source": [
        "def sumofevendigits(n):\n",
        "    s = 0\n",
        "    while n!= 0:\n",
        "       r = n%10 \n",
        "       if r%2==0:\n",
        "         s=s+r\n",
        "       n=n//10\n",
        "    return s\n",
        "sumofevendigits(1234)"
      ],
      "execution_count": 63,
      "outputs": [
        {
          "output_type": "execute_result",
          "data": {
            "text/plain": [
              "6"
            ]
          },
          "metadata": {
            "tags": []
          },
          "execution_count": 63
        }
      ]
    },
    {
      "cell_type": "code",
      "metadata": {
        "id": "DjkSFYhp-c2S",
        "colab_type": "code",
        "colab": {
          "base_uri": "https://localhost:8080/",
          "height": 34
        },
        "outputId": "424a7008-4453-432b-ad2c-6afc9f1657c3"
      },
      "source": [
        "# LARGEST DIGIT IN A NUMBER.\n",
        "def largestdigit(n):\n",
        "    s=0\n",
        "    while n!=0:\n",
        "        r=n%10\n",
        "        if r>s:\n",
        "           s=r\n",
        "        n=n//10\n",
        "    return s\n",
        "largestdigit(54965)  \n"
      ],
      "execution_count": 77,
      "outputs": [
        {
          "output_type": "execute_result",
          "data": {
            "text/plain": [
              "9"
            ]
          },
          "metadata": {
            "tags": []
          },
          "execution_count": 77
        }
      ]
    },
    {
      "cell_type": "code",
      "metadata": {
        "id": "iiL1O7l1FizC",
        "colab_type": "code",
        "colab": {}
      },
      "source": [
        ""
      ],
      "execution_count": 0,
      "outputs": []
    },
    {
      "cell_type": "markdown",
      "metadata": {
        "id": "rvKkZfXaHiY2",
        "colab_type": "text"
      },
      "source": [
        "# For loop\n",
        "\n",
        "##Syntax:\n",
        "\n",
        "for in range(start,stop,step):\n",
        "\n",
        "statements"
      ]
    },
    {
      "cell_type": "code",
      "metadata": {
        "id": "XBnoL8bQH9Db",
        "colab_type": "code",
        "colab": {
          "base_uri": "https://localhost:8080/",
          "height": 34
        },
        "outputId": "0cb9602e-7222-4c56-c661-c9536aa31136"
      },
      "source": [
        "#Using function print the numbers between the limits\n",
        "def printseries(fn,ln):\n",
        "    for i in range(fn,ln+1):\n",
        "       print(i,end=\" \")\n",
        "    return\n",
        "printseries(11,25) "
      ],
      "execution_count": 81,
      "outputs": [
        {
          "output_type": "stream",
          "text": [
            "11 12 13 14 15 16 17 18 19 20 21 22 23 24 25 "
          ],
          "name": "stdout"
        }
      ]
    },
    {
      "cell_type": "code",
      "metadata": {
        "id": "YHHVlubvJdqt",
        "colab_type": "code",
        "colab": {
          "base_uri": "https://localhost:8080/",
          "height": 34
        },
        "outputId": "1573379c-0c79-4551-ae74-4ec46607d728"
      },
      "source": [
        "def printseries(fn,ln):\n",
        "    for i in range(fn,ln+1,4):\n",
        "       print(i,end=\" \")\n",
        "    return\n",
        "printseries(500,520)"
      ],
      "execution_count": 86,
      "outputs": [
        {
          "output_type": "stream",
          "text": [
            "500 504 508 512 516 520 "
          ],
          "name": "stdout"
        }
      ]
    },
    {
      "cell_type": "markdown",
      "metadata": {
        "id": "WmASI97mL3zz",
        "colab_type": "text"
      },
      "source": [
        "# collection types\n",
        "-list\n",
        "\n",
        "\n",
        "*  one of the dat structure in python \n",
        "*  data structure means to store ,sort and search options\n",
        "*  its one common data structure in python,the items of list seperated by comma and enclosed by square brackets\n",
        "*  list was IMMUTABLE(i.e values can change)\n",
        "*  ex:\n",
        "*  list1=[1,2,3,4,5]\n",
        "*  list=[\"jntua\",\"dsad\",\"asds\"]\n",
        "\n",
        "-tuple\n",
        "\n",
        "-dictionary"
      ]
    },
    {
      "cell_type": "code",
      "metadata": {
        "id": "3h0-2nT4KI2s",
        "colab_type": "code",
        "colab": {
          "base_uri": "https://localhost:8080/",
          "height": 119
        },
        "outputId": "4a56078b-e8a1-4789-b90d-6b3d0b381abe"
      },
      "source": [
        "# collection types\n",
        "l1 =[1,2,3,4,5,6,7,8,9]\n",
        "print(l1)\n",
        "print(l1[2])\n",
        "print(l1[-3])\n",
        "print(l1[2:])\n",
        "print(l1[2:4])\n",
        "print(l1[-3:-1])"
      ],
      "execution_count": 92,
      "outputs": [
        {
          "output_type": "stream",
          "text": [
            "[1, 2, 3, 4, 5, 6, 7, 8, 9]\n",
            "3\n",
            "7\n",
            "[3, 4, 5, 6, 7, 8, 9]\n",
            "[3, 4]\n",
            "[7, 8]\n"
          ],
          "name": "stdout"
        }
      ]
    },
    {
      "cell_type": "code",
      "metadata": {
        "id": "S9mryLu_OGFt",
        "colab_type": "code",
        "colab": {
          "base_uri": "https://localhost:8080/",
          "height": 68
        },
        "outputId": "ebe7ec5d-99d1-4a0b-9478-559e372b28c3"
      },
      "source": [
        "# update list\n",
        "li = [\"jntua\",8,\"anantapur\",5,4]\n",
        "print(li)\n",
        "li[1]=\"154\"\n",
        "print(li)\n",
        "#delete the list item\n",
        "del li[3]\n",
        "print(li)"
      ],
      "execution_count": 98,
      "outputs": [
        {
          "output_type": "stream",
          "text": [
            "['jntua', 8, 'anantapur', 5, 4]\n",
            "['jntua', '154', 'anantapur', 5, 4]\n",
            "['jntua', '154', 'anantapur', 4]\n"
          ],
          "name": "stdout"
        }
      ]
    },
    {
      "cell_type": "code",
      "metadata": {
        "id": "Ik9nwDa3ar1v",
        "colab_type": "code",
        "colab": {
          "base_uri": "https://localhost:8080/",
          "height": 68
        },
        "outputId": "1c6a3598-27b5-4399-af66-97d8824c5e35"
      },
      "source": [
        "# basic list operators \n",
        "li=[1,2,3,4,5,6]\n",
        "print(li*2)\n",
        "print(4 in li)\n",
        "print(9 in li)"
      ],
      "execution_count": 101,
      "outputs": [
        {
          "output_type": "stream",
          "text": [
            "[1, 2, 3, 4, 5, 6, 1, 2, 3, 4, 5, 6]\n",
            "True\n",
            "False\n"
          ],
          "name": "stdout"
        }
      ]
    },
    {
      "cell_type": "code",
      "metadata": {
        "id": "f6j9VTuidDmc",
        "colab_type": "code",
        "colab": {}
      },
      "source": [
        ""
      ],
      "execution_count": 0,
      "outputs": []
    },
    {
      "cell_type": "markdown",
      "metadata": {
        "id": "36zyIjjQdJ_f",
        "colab_type": "text"
      },
      "source": [
        "# LIST OF FUNCTIONS\n",
        " -MAX\n",
        "\n",
        " -MIN\n",
        "\n",
        " -SUM\n",
        "\n",
        " -APPEND\n",
        "\n",
        " -INSERT\n",
        "\n",
        " -COUNT\n",
        "\n",
        " -INDEX\n",
        "\n",
        " -SORT\n",
        "\n",
        " -POP"
      ]
    },
    {
      "cell_type": "code",
      "metadata": {
        "id": "vcL_TZNIda-m",
        "colab_type": "code",
        "colab": {
          "base_uri": "https://localhost:8080/",
          "height": 170
        },
        "outputId": "06ca096d-832f-42cc-ebd9-dba37be77e0a"
      },
      "source": [
        "li = [1,2,3,67,89,44,65,45,456,78,45]\n",
        "print(max(li))\n",
        "print(min(li))\n",
        "print(sum(li))\n",
        "print(sum(li)/(len(li)))\n",
        "li.append(56)\n",
        "print(li)\n",
        "li.insert(2,56)\n",
        "print(li)\n",
        "li.count(45)\n",
        "li.index(67)\n",
        "li.sort()\n",
        "print(li)\n",
        "li.pop()\n",
        "print(li)\n",
        "li.pop(3)\n",
        "print(li)"
      ],
      "execution_count": 123,
      "outputs": [
        {
          "output_type": "stream",
          "text": [
            "456\n",
            "1\n",
            "895\n",
            "81.36363636363636\n",
            "[1, 2, 3, 67, 89, 44, 65, 45, 456, 78, 45, 56]\n",
            "[1, 2, 56, 3, 67, 89, 44, 65, 45, 456, 78, 45, 56]\n",
            "[1, 2, 3, 44, 45, 45, 56, 56, 65, 67, 78, 89, 456]\n",
            "[1, 2, 3, 44, 45, 45, 56, 56, 65, 67, 78, 89]\n",
            "[1, 2, 3, 45, 45, 56, 56, 65, 67, 78, 89]\n"
          ],
          "name": "stdout"
        }
      ]
    },
    {
      "cell_type": "code",
      "metadata": {
        "id": "U-SHIyoido0W",
        "colab_type": "code",
        "colab": {
          "base_uri": "https://localhost:8080/",
          "height": 51
        },
        "outputId": "bd46437c-cdeb-4c27-ad34-934f199fee91"
      },
      "source": [
        "# return large number from list\n",
        "def small(li):\n",
        "   li.sort()  \n",
        "   return li[0]\n",
        "def gsmall(li,n):\n",
        "   li.sort()\n",
        "   return li[n+1]\n",
        "li =[56,68,86,5,2,55,6556,52,56,36,98,12]\n",
        "print(small(li))\n",
        "print(gsmall(li,4))\n"
      ],
      "execution_count": 140,
      "outputs": [
        {
          "output_type": "stream",
          "text": [
            "2\n",
            "52\n"
          ],
          "name": "stdout"
        }
      ]
    },
    {
      "cell_type": "code",
      "metadata": {
        "id": "H-ZMPwFWj7XR",
        "colab_type": "code",
        "colab": {}
      },
      "source": [
        ""
      ],
      "execution_count": 0,
      "outputs": []
    }
  ]
}